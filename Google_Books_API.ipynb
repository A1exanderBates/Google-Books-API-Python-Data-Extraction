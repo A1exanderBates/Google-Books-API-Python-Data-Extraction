{
  "nbformat": 4,
  "nbformat_minor": 0,
  "metadata": {
    "colab": {
      "name": "Google_Books_API.ipynb",
      "provenance": [],
      "authorship_tag": "ABX9TyOzIER5SRMXuObw/FOn/F0a",
      "include_colab_link": true
    },
    "kernelspec": {
      "name": "python3",
      "display_name": "Python 3"
    },
    "language_info": {
      "name": "python"
    }
  },
  "cells": [
    {
      "cell_type": "markdown",
      "metadata": {
        "id": "view-in-github",
        "colab_type": "text"
      },
      "source": [
        "<a href=\"https://colab.research.google.com/github/A1exanderBates/Google-Books-API-Python-Data-Extraction/blob/main/Google_Books_API.ipynb\" target=\"_parent\"><img src=\"https://colab.research.google.com/assets/colab-badge.svg\" alt=\"Open In Colab\"/></a>"
      ]
    },
    {
      "cell_type": "code",
      "source": [
        "# importing libraries\n",
        "import requests\n",
        "import json\n",
        "import csv"
      ],
      "metadata": {
        "id": "AbPV5Ly52tuI"
      },
      "execution_count": null,
      "outputs": []
    },
    {
      "cell_type": "code",
      "execution_count": null,
      "metadata": {
        "id": "4oVd7W2d1KAL"
      },
      "outputs": [],
      "source": [
        "genre = [\"Art\",\n",
        "         \"Biography\",\n",
        "         \"Business\",\n",
        "         \"Children's\",\n",
        "         \"Christian\",\n",
        "         \"Classics\",\n",
        "         \"Comics\",\n",
        "         \"Cookbooks\",\n",
        "         \"Fantasy\",\n",
        "         \"Fiction\",\n",
        "         \"Graphic Novels\",\n",
        "         \"Historical Fiction\",\n",
        "         \"History\",\n",
        "         \"Horror\",\n",
        "         \"Memoir\",\n",
        "         \"Music\",\n",
        "         \"Mystery\",\n",
        "         \"Nonfiction\",\n",
        "         \"Poetry\",\n",
        "         \"Psychology\",\n",
        "         \"Romance\",\n",
        "         \"Science\",\n",
        "         \"Science Fiction\",\n",
        "         \"Self Help\",\n",
        "         \"Sports\",\n",
        "         \"Thriller\",\n",
        "         \"Travel\",\n",
        "         \"Young Adult\"]\n",
        "\n",
        "\n",
        "raw_results = []\n",
        "\n",
        "# retrieving Google Books volume data with dynamic search parameter\n",
        "for i in genre:\n",
        "    response_data = requests.get('https://www.googleapis.com/books/v1/volumes?q=' + i + '&startIndex=0&maxResults=40').json()\n",
        "    raw_results.append(response_data)\n"
      ]
    },
    {
      "cell_type": "code",
      "source": [
        "# parsing through the retrieved dictionary data \n",
        "retrieved_items_data = []\n",
        "for i in range(0, len(raw_results)):\n",
        "    retrieved_items_data.append(raw_results[i]['items'])"
      ],
      "metadata": {
        "id": "-OLLBV3T4non"
      },
      "execution_count": null,
      "outputs": []
    },
    {
      "cell_type": "code",
      "source": [
        "# further parsing to retrieve volumeInfo\n",
        "volumeInfo = []\n",
        "for k in range(0, len(retrieved_items_data)):\n",
        "    by_genre_record = retrieved_items_data[k]\n",
        "    for i in range(0,len(by_genre_record)):\n",
        "        temp_dict1 = by_genre_record[i]['volumeInfo']\n",
        "        volumeInfo.append(temp_dict1)"
      ],
      "metadata": {
        "colab": {
          "base_uri": "https://localhost:8080/"
        },
        "id": "XmVge7Jz2fLR",
        "outputId": "21af765c-edcd-4f67-b144-7d5cee4db7f2"
      },
      "execution_count": null,
      "outputs": [
        {
          "output_type": "execute_result",
          "data": {
            "text/plain": [
              "{'allowAnonLogging': False,\n",
              " 'authors': ['Toby Fox'],\n",
              " 'averageRating': 5,\n",
              " 'canonicalVolumeLink': 'https://books.google.com/books/about/Undertale_Art_Book.html?hl=&id=ba1FvgAACAAJ',\n",
              " 'contentVersion': 'preview-1.0.0',\n",
              " 'description': 'every video game has concept art...UNDERTALE is no exception...the difference being that toby fox isnt an artist lol',\n",
              " 'imageLinks': {'smallThumbnail': 'http://books.google.com/books/content?id=ba1FvgAACAAJ&printsec=frontcover&img=1&zoom=5&source=gbs_api',\n",
              "  'thumbnail': 'http://books.google.com/books/content?id=ba1FvgAACAAJ&printsec=frontcover&img=1&zoom=1&source=gbs_api'},\n",
              " 'industryIdentifiers': [{'identifier': '1945908998', 'type': 'ISBN_10'},\n",
              "  {'identifier': '9781945908996', 'type': 'ISBN_13'}],\n",
              " 'infoLink': 'http://books.google.com/books?id=ba1FvgAACAAJ&dq=Art&hl=&source=gbs_api',\n",
              " 'language': 'en',\n",
              " 'maturityRating': 'NOT_MATURE',\n",
              " 'panelizationSummary': {'containsEpubBubbles': False,\n",
              "  'containsImageBubbles': False},\n",
              " 'previewLink': 'http://books.google.com/books?id=ba1FvgAACAAJ&dq=Art&hl=&cd=1&source=gbs_api',\n",
              " 'printType': 'BOOK',\n",
              " 'publishedDate': '2016-10-31',\n",
              " 'ratingsCount': 6,\n",
              " 'readingModes': {'image': False, 'text': False},\n",
              " 'title': 'Undertale Art Book'}"
            ]
          },
          "metadata": {},
          "execution_count": 18
        }
      ]
    },
    {
      "cell_type": "code",
      "source": [
        "# writing the extracted data to a csv file\n",
        "volume_col_headers = ['allowAnonLogging', \n",
        "                        'authors',\n",
        "                        'averageRating', \n",
        "                        'canonicalVolumeLink',\n",
        "                        'categories',\n",
        "                        'contentVersion',\n",
        "                        'description',\n",
        "                        'imageLinks',\n",
        "                        'thumbnail',\n",
        "                        'industryIdentifiers',\n",
        "                        'infoLink',\n",
        "                        'language',\n",
        "                        'maturityRating',\n",
        "                        'pageCount',\n",
        "                        'panelizationSummary',\n",
        "                        'containsImageBubbles',\n",
        "                        'previewLink',\n",
        "                        'printType',\n",
        "                        'publishedDate',\n",
        "                        'publisher',\n",
        "                        'ratingsCount',\n",
        "                        'readingModes',\n",
        "                        'subtitle',\n",
        "                        'title',\n",
        "                        'comicsContent',\n",
        "                        'seriesInfo']\n",
        "with open('books_API_volume_data.csv', 'w') as csvfile:\n",
        "        writer = csv.DictWriter(csvfile, fieldnames=volume_col_headers)\n",
        "        writer.writeheader()\n",
        "        writer.writerows(volumeInfo)"
      ],
      "metadata": {
        "id": "6aS3w0yMbpHK"
      },
      "execution_count": null,
      "outputs": []
    }
  ]
}